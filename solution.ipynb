{
 "cells": [
  {
   "metadata": {},
   "cell_type": "markdown",
   "source": [
    "# 🛳️ Titanic Data Investigation\n",
    "\n",
    "**Scenario:**\n",
    "You’ve been hired to prepare clean Titanic passenger data for a museum exhibit.\n",
    "The original data comes from multiple sources.\n",
    "Your mission is to:\n",
    "1. Detect and fix missing information\n",
    "2. Reshape messy structures into tidy format\n",
    "3. Combine data for richer analysis\n",
    "4. Transform and normalize values\n",
    "5. Create one clear visualization for the exhibit\n",
    "\n",
    "Every wrangling step you take helps make history more understandable!\n"
   ],
   "id": "928a9e39513e461b"
  },
  {
   "metadata": {},
   "cell_type": "markdown",
   "source": "## 0. Setup & Reproducibility",
   "id": "ffbf490dff798592"
  },
  {
   "cell_type": "code",
   "id": "initial_id",
   "metadata": {
    "collapsed": true
   },
   "source": "!pip install pandas==2.3.3 seaborn==0.13.2 numpy==2.3.4",
   "outputs": [],
   "execution_count": null
  },
  {
   "metadata": {
    "ExecuteTime": {
     "end_time": "2025-10-28T12:19:21.225685Z",
     "start_time": "2025-10-28T12:19:21.218332Z"
    }
   },
   "cell_type": "code",
   "source": [
    "import pandas as pd\n",
    "import numpy as np\n",
    "import seaborn as sns\n",
    "import matplotlib.pyplot as plt\n",
    "\n",
    "np.random.seed(42)\n",
    "pd.__version__, np.__version__, sns.__version__"
   ],
   "id": "7017fdef71b29a9d",
   "outputs": [
    {
     "data": {
      "text/plain": [
       "('2.3.3', '2.3.4', '0.13.2')"
      ]
     },
     "execution_count": 4,
     "metadata": {},
     "output_type": "execute_result"
    }
   ],
   "execution_count": 4
  },
  {
   "metadata": {},
   "cell_type": "markdown",
   "source": [
    "## 1) Load & Inspect\n",
    "\n",
    "**Goal:** Understand the dataset’s shape, types, and missingness.\n",
    "\n",
    "**Do this:**\n",
    "1. Inspect the `titanic` dataset with `head()`, `info()`\n",
    "2. Count missing values per column\n",
    "3. Find 4 candidate columns to clean\n"
   ],
   "id": "70171d5094f6b5e2"
  },
  {
   "metadata": {
    "ExecuteTime": {
     "end_time": "2025-10-28T12:19:23.195332Z",
     "start_time": "2025-10-28T12:19:23.177218Z"
    }
   },
   "cell_type": "code",
   "source": [
    "df = sns.load_dataset(\"titanic\").iloc[:-100]\n",
    "df.head()\n"
   ],
   "id": "1023a6311acb9e9c",
   "outputs": [
    {
     "data": {
      "text/plain": [
       "   survived  pclass     sex   age  sibsp  parch     fare embarked  class  \\\n",
       "0         0       3    male  22.0      1      0   7.2500        S  Third   \n",
       "1         1       1  female  38.0      1      0  71.2833        C  First   \n",
       "2         1       3  female  26.0      0      0   7.9250        S  Third   \n",
       "3         1       1  female  35.0      1      0  53.1000        S  First   \n",
       "4         0       3    male  35.0      0      0   8.0500        S  Third   \n",
       "\n",
       "     who  adult_male deck  embark_town alive  alone  \n",
       "0    man        True  NaN  Southampton    no  False  \n",
       "1  woman       False    C    Cherbourg   yes  False  \n",
       "2  woman       False  NaN  Southampton   yes   True  \n",
       "3  woman       False    C  Southampton   yes  False  \n",
       "4    man        True  NaN  Southampton    no   True  "
      ],
      "text/html": [
       "<div>\n",
       "<style scoped>\n",
       "    .dataframe tbody tr th:only-of-type {\n",
       "        vertical-align: middle;\n",
       "    }\n",
       "\n",
       "    .dataframe tbody tr th {\n",
       "        vertical-align: top;\n",
       "    }\n",
       "\n",
       "    .dataframe thead th {\n",
       "        text-align: right;\n",
       "    }\n",
       "</style>\n",
       "<table border=\"1\" class=\"dataframe\">\n",
       "  <thead>\n",
       "    <tr style=\"text-align: right;\">\n",
       "      <th></th>\n",
       "      <th>survived</th>\n",
       "      <th>pclass</th>\n",
       "      <th>sex</th>\n",
       "      <th>age</th>\n",
       "      <th>sibsp</th>\n",
       "      <th>parch</th>\n",
       "      <th>fare</th>\n",
       "      <th>embarked</th>\n",
       "      <th>class</th>\n",
       "      <th>who</th>\n",
       "      <th>adult_male</th>\n",
       "      <th>deck</th>\n",
       "      <th>embark_town</th>\n",
       "      <th>alive</th>\n",
       "      <th>alone</th>\n",
       "    </tr>\n",
       "  </thead>\n",
       "  <tbody>\n",
       "    <tr>\n",
       "      <th>0</th>\n",
       "      <td>0</td>\n",
       "      <td>3</td>\n",
       "      <td>male</td>\n",
       "      <td>22.0</td>\n",
       "      <td>1</td>\n",
       "      <td>0</td>\n",
       "      <td>7.2500</td>\n",
       "      <td>S</td>\n",
       "      <td>Third</td>\n",
       "      <td>man</td>\n",
       "      <td>True</td>\n",
       "      <td>NaN</td>\n",
       "      <td>Southampton</td>\n",
       "      <td>no</td>\n",
       "      <td>False</td>\n",
       "    </tr>\n",
       "    <tr>\n",
       "      <th>1</th>\n",
       "      <td>1</td>\n",
       "      <td>1</td>\n",
       "      <td>female</td>\n",
       "      <td>38.0</td>\n",
       "      <td>1</td>\n",
       "      <td>0</td>\n",
       "      <td>71.2833</td>\n",
       "      <td>C</td>\n",
       "      <td>First</td>\n",
       "      <td>woman</td>\n",
       "      <td>False</td>\n",
       "      <td>C</td>\n",
       "      <td>Cherbourg</td>\n",
       "      <td>yes</td>\n",
       "      <td>False</td>\n",
       "    </tr>\n",
       "    <tr>\n",
       "      <th>2</th>\n",
       "      <td>1</td>\n",
       "      <td>3</td>\n",
       "      <td>female</td>\n",
       "      <td>26.0</td>\n",
       "      <td>0</td>\n",
       "      <td>0</td>\n",
       "      <td>7.9250</td>\n",
       "      <td>S</td>\n",
       "      <td>Third</td>\n",
       "      <td>woman</td>\n",
       "      <td>False</td>\n",
       "      <td>NaN</td>\n",
       "      <td>Southampton</td>\n",
       "      <td>yes</td>\n",
       "      <td>True</td>\n",
       "    </tr>\n",
       "    <tr>\n",
       "      <th>3</th>\n",
       "      <td>1</td>\n",
       "      <td>1</td>\n",
       "      <td>female</td>\n",
       "      <td>35.0</td>\n",
       "      <td>1</td>\n",
       "      <td>0</td>\n",
       "      <td>53.1000</td>\n",
       "      <td>S</td>\n",
       "      <td>First</td>\n",
       "      <td>woman</td>\n",
       "      <td>False</td>\n",
       "      <td>C</td>\n",
       "      <td>Southampton</td>\n",
       "      <td>yes</td>\n",
       "      <td>False</td>\n",
       "    </tr>\n",
       "    <tr>\n",
       "      <th>4</th>\n",
       "      <td>0</td>\n",
       "      <td>3</td>\n",
       "      <td>male</td>\n",
       "      <td>35.0</td>\n",
       "      <td>0</td>\n",
       "      <td>0</td>\n",
       "      <td>8.0500</td>\n",
       "      <td>S</td>\n",
       "      <td>Third</td>\n",
       "      <td>man</td>\n",
       "      <td>True</td>\n",
       "      <td>NaN</td>\n",
       "      <td>Southampton</td>\n",
       "      <td>no</td>\n",
       "      <td>True</td>\n",
       "    </tr>\n",
       "  </tbody>\n",
       "</table>\n",
       "</div>"
      ]
     },
     "execution_count": 5,
     "metadata": {},
     "output_type": "execute_result"
    }
   ],
   "execution_count": 5
  },
  {
   "metadata": {},
   "cell_type": "code",
   "source": [
    "#SOLUTION\n",
    "df.info()\n",
    "df.isna().sum().sort_values(ascending=False).head(10)\n"
   ],
   "id": "993011c805b97746",
   "outputs": [],
   "execution_count": null
  },
  {
   "metadata": {},
   "cell_type": "markdown",
   "source": [
    "<details>\n",
    "<summary>💡 Hint</summary>\n",
    "\n",
    "- Use `df.info()` to see dtypes and non-null counts\n",
    "- Use `df.isna().sum()` to count missing values\n",
    "- Typical targets here: `deck`, `age`, `embarked`\n",
    "</details>\n"
   ],
   "id": "355e48a9e9ca8e61"
  },
  {
   "metadata": {},
   "cell_type": "markdown",
   "source": "### Checkpoint 1",
   "id": "f0b296f71afc87eb"
  },
  {
   "metadata": {},
   "cell_type": "code",
   "source": [
    "expected = {\"survived\",\"pclass\",\"sex\",\"age\",\"sibsp\",\"parch\",\"fare\",\"embarked\",\"class\",\"who\",\"adult_male\",\"deck\",\"embark_town\",\"alive\"}\n",
    "assert expected.issubset(set(df.columns))\n",
    "print(\"✅\")\n"
   ],
   "id": "748b02e6bdb0fbbe",
   "outputs": [],
   "execution_count": null
  },
  {
   "metadata": {},
   "cell_type": "markdown",
   "source": [
    "## 2) Handle Missing Data\n",
    "\n",
    "**Goal:** Handle common observational missing values.\n",
    "\n",
    "**Do this:**\n",
    "1. Fill missing `age` with the **median**\n",
    "2. Fill missing `embarked` & `embark_town` with the most **common** values of the column\n",
    "3. Replace missing `deck` with `\"Unknown\"`\n",
    "4. Re-check missingness\n"
   ],
   "id": "72c6ec12d8204544"
  },
  {
   "metadata": {
    "ExecuteTime": {
     "end_time": "2025-10-28T12:19:26.274379Z",
     "start_time": "2025-10-28T12:19:26.263113Z"
    }
   },
   "cell_type": "code",
   "source": [
    "##SOLUTION\n",
    "df[\"age\"] = df[\"age\"].fillna(df[\"age\"].median())\n",
    "\n",
    "df[\"embarked\"] = df[\"embarked\"].fillna(df[\"embarked\"].mode()[0])\n",
    "df[\"embark_town\"] = df[\"embark_town\"].fillna(df[\"embark_town\"].mode()[0])\n",
    "\n",
    "df[\"deck\"] = df[\"deck\"].cat.add_categories(\"Unknown\")\n",
    "df[\"deck\"] = df[\"deck\"].fillna(\"Unknown\")\n",
    "\n",
    "df.isna().sum().sort_values(ascending=False).head(8)"
   ],
   "id": "f829f3ad6b0642ff",
   "outputs": [
    {
     "data": {
      "text/plain": [
       "survived    0\n",
       "pclass      0\n",
       "sex         0\n",
       "age         0\n",
       "sibsp       0\n",
       "parch       0\n",
       "fare        0\n",
       "embarked    0\n",
       "dtype: int64"
      ]
     },
     "execution_count": 6,
     "metadata": {},
     "output_type": "execute_result"
    }
   ],
   "execution_count": 6
  },
  {
   "metadata": {},
   "cell_type": "markdown",
   "source": [
    "<details>\n",
    "<summary>💡 Why median/mode?</summary>\n",
    "\n",
    "- **Age (numeric):** median is robust to outliers\n",
    "- **Embarked (categorical):** mode reflects the most common category\n",
    "- **Deck (string):** \"Unknown\" preserves the fact that a value should exist but wasn’t recorded\n",
    "</details>\n"
   ],
   "id": "17e35d1f43c4fd97"
  },
  {
   "metadata": {},
   "cell_type": "markdown",
   "source": [
    "<details>\n",
    "<summary>💡 Error when trying to fill deck?</summary>\n",
    "\n",
    "The `deck` column is stored as a *Categorical dtype* in pandas.\n",
    "To fill missing values with a new label (`\"Unknown\"`), you must first **add it to the category list**:\n",
    "```python\n",
    "df[\"deck\"] = df[\"deck\"].cat.add_categories(\"Unknown\")\n",
    "```\n",
    "\n",
    "Alternatively, you can convert deck to string before filling if you don’t need the categorical type:\n",
    "```python\n",
    "df[\"deck\"] = df[\"deck\"].astype(\"string\")\n",
    "```\n",
    "</details>\n"
   ],
   "id": "6b035706b1668dbd"
  },
  {
   "metadata": {},
   "cell_type": "markdown",
   "source": "### Checkpoint 2",
   "id": "50ac892536977434"
  },
  {
   "metadata": {},
   "cell_type": "code",
   "source": [
    "assert df[\"age\"].isna().sum() == 0\n",
    "assert df[\"embarked\"].isna().sum() == 0\n",
    "assert df[\"deck\"].isna().sum() == 0\n",
    "print(\"✅\")"
   ],
   "id": "f649c103ec8c50c0",
   "outputs": [],
   "execution_count": null
  },
  {
   "metadata": {},
   "cell_type": "markdown",
   "source": [
    "## 3) Reshape\n",
    "\n",
    "**Goal:**\n",
    "You received a **summary sheet** from the museum team.\n",
    "It shows passenger survival rates, but the layout is **wide** — each embarkation port is a column.\n",
    "Your job: **convert this wide table back to tidy format**, where each row is one observation.\n",
    "\n",
    "**Given:**\n",
    "- A wide DataFrame called `messy`\n",
    "- Columns: `class`, `sex`, `C`, `Q`, `S` → representing embarkation ports\n",
    "- Each cell shows the **average survival rate** for that group\n",
    "\n",
    "**Do this:**\n",
    "1. Inspect the messy wide table (run the next cell)\n",
    "2. Use `melt()` to make it tidy again with:\n",
    "   - `id_vars=[\"class\", \"sex\"]`\n",
    "   - `var_name=\"embarked\"`\n",
    "   - `value_name=\"survival_rate\"`\n"
   ],
   "id": "9e3fce7ba4a0e912"
  },
  {
   "metadata": {},
   "cell_type": "code",
   "source": [
    "messy = (\n",
    "    df.groupby([\"class\", \"sex\", \"embarked\"], observed=True)[\"survived\"]\n",
    "      .mean()\n",
    "      .round(3)\n",
    "      .reset_index()\n",
    "      .pivot(index=[\"class\", \"sex\"], columns=\"embarked\", values=\"survived\")\n",
    "      .reset_index()\n",
    ")\n",
    "messy.head()"
   ],
   "id": "47fa97b7068ec330",
   "outputs": [],
   "execution_count": null
  },
  {
   "metadata": {},
   "cell_type": "code",
   "source": [
    "#SOLUTION\n",
    "tidy = messy.melt(\n",
    "    id_vars=[\"class\",\"sex\"],\n",
    "    var_name=\"embarked\",\n",
    "    value_name=\"survival_rate\"\n",
    ")\n",
    "\n",
    "tidy.head()\n"
   ],
   "id": "ba9e5a3e1591549c",
   "outputs": [],
   "execution_count": null
  },
  {
   "metadata": {},
   "cell_type": "markdown",
   "source": [
    "<details>\n",
    "<summary>💡 Hint</summary>\n",
    "\n",
    "- `melt()` reverses a pivot: it takes columns and turns them into rows.\n",
    "- Use:\n",
    "  ```python\n",
    "  tidy = messy.melt(\n",
    "      id_vars=[\"class\", \"sex\"],\n",
    "      var_name=\"embarked\",\n",
    "      value_name=\"survival_rate\"\n",
    "  )\n"
   ],
   "id": "1cf44672d44221de"
  },
  {
   "metadata": {},
   "cell_type": "code",
   "source": [
    "assert set(tidy.columns) == {\"class\",\"sex\",\"embarked\",\"survival_rate\"}\n",
    "print(\"✅\")\n"
   ],
   "id": "82334923b0c93921",
   "outputs": [],
   "execution_count": null
  },
  {
   "metadata": {},
   "cell_type": "markdown",
   "source": [
    "## 4) Combine\n",
    "\n",
    "**Goal:**\n",
    "The museum’s data team discovered new passenger data and prepared **class descriptions** to enrich your dataset.\n",
    "\n",
    "**Given:**\n",
    "- A batch of **new rows**: **`new_data`**\n",
    "- A prepared lookup table: **`class_info`**\n",
    "\n",
    "**Do this:**\n",
    "1. **Append** (`concat`) the enriched `new_Data` to `df`\n",
    "2. Merge **`class_description`** from `class_info` into `df`\n",
    "\n"
   ],
   "id": "66e2ba0760872bbc"
  },
  {
   "metadata": {},
   "cell_type": "code",
   "source": "new_data = sns.load_dataset(\"titanic\").tail(100)",
   "id": "43be8f3b396a40ea",
   "outputs": [],
   "execution_count": null
  },
  {
   "metadata": {},
   "cell_type": "code",
   "source": [
    "#SOLUTION\n",
    "df = pd.concat([df, new_data], axis=0, ignore_index=True)"
   ],
   "id": "10406f952984375f",
   "outputs": [],
   "execution_count": null
  },
  {
   "metadata": {},
   "cell_type": "markdown",
   "source": [
    "<details>\n",
    "<summary>💡 Hint (Concat)</summary>\n",
    "\n",
    "- Use `pd.concat([df, new_rows], axis=0, ignore_index=True)` to append rows.\n",
    "- `ignore_index=True` re-numbers the index 0..N-1.\n",
    "</details>\n"
   ],
   "id": "d9b2361993a60a"
  },
  {
   "metadata": {},
   "cell_type": "code",
   "source": [
    "assert len(df) == 891\n",
    "print(\"✅\")"
   ],
   "id": "b4da29b1784f5ce4",
   "outputs": [],
   "execution_count": null
  },
  {
   "metadata": {},
   "cell_type": "markdown",
   "source": [
    "#### Merge prepared information\n",
    "\n",
    "Now the data team gives you an additional **lookup table** named `class_info` that maps the Titanic’s passenger classes\n",
    "(`First`, `Second`, `Third`) to **descriptive text** and **price category**.\n",
    "\n",
    "We’ll merge it with `df` on the **'class'** column.\n"
   ],
   "id": "8e56d261a28eb4fc"
  },
  {
   "metadata": {},
   "cell_type": "code",
   "source": [
    "prev_len = len(df)\n",
    "\n",
    "class_info = pd.DataFrame({\n",
    "    \"class\": [\"First\", \"Second\", \"Third\"],\n",
    "    \"class_description\": [\n",
    "        \"First Class – luxury cabins and dining\",\n",
    "        \"Second Class – comfortable standard cabins\",\n",
    "        \"Third Class – basic accommodation and shared rooms\"\n",
    "    ],\n",
    "    \"price_category\": [\"high\", \"mid\", \"low\"]\n",
    "})\n",
    "\n",
    "class_info"
   ],
   "id": "55b1e92609b23402",
   "outputs": [],
   "execution_count": null
  },
  {
   "metadata": {},
   "cell_type": "markdown",
   "source": [
    "<details>\n",
    "<summary>💡 Hint (Merge)</summary>\n",
    "\n",
    "- Think of `merge()` as connecting tables **by a shared key** (here: <code>'class'</code>).\n",
    "- Use `how='left'` so every passenger row is kept, even if the key isn't in the lookup.\n",
    "- Syntax:\n",
    "  <code>df.merge(class_info, on=\"class\", how=\"left\")</code>\n",
    "- `validate=\"m:1\"` checks that multiple passengers can map to one class record.\n",
    "</details>\n"
   ],
   "id": "70bb56b8471b610c"
  },
  {
   "metadata": {},
   "cell_type": "code",
   "source": [
    "#SOLUTION\n",
    "df_merged = df.merge(\n",
    "    class_info,\n",
    "    on=\"class\",\n",
    "    how=\"left\",\n",
    "    validate=\"m:1\"\n",
    ")\n",
    "\n",
    "df_merged[[\"class\", \"sex\", \"fare\", \"class_description\", \"price_category\"]].head()"
   ],
   "id": "fbf5ad37d8fcb58e",
   "outputs": [],
   "execution_count": null
  },
  {
   "metadata": {},
   "cell_type": "markdown",
   "source": [
    "<details>\n",
    "<summary>💡 Hint (Merge)</summary>\n",
    "\n",
    "- Your **join keys must match in both *name* and *dtype*** on both sides.\n",
    "- Since <code>df['fare_band']</code> is an **Interval** and your lookup uses a **string key** (<code>fare_band_key</code>), create a matching key in <code>df</code> with:<br>\n",
    "  <code>df['fare_band_key'] = df['fare_band'].astype(str)</code>\n",
    "- Then do a **left merge** on <code>fare_band_key</code> so you keep all rows from <code>df</code>.\n",
    "- Use <code>validate=\"m:1\"</code> to ensure many-to-one (many passengers → one label per band).\n",
    "</details>\n"
   ],
   "id": "14ffa3bf26b18efb"
  },
  {
   "metadata": {},
   "cell_type": "code",
   "source": [
    "assert len(df_merged) == prev_len, \"❌ Row count changed, check merge keys.\"\n",
    "\n",
    "missing_desc = df_merged[\"class_description\"].isna().sum()\n",
    "assert missing_desc == 0\n",
    "print(\"✅\")\n",
    "\n"
   ],
   "id": "e957a7637aad6408",
   "outputs": [],
   "execution_count": null
  },
  {
   "metadata": {},
   "cell_type": "markdown",
   "source": [
    "## 5) Transform & Normalize\n",
    "\n",
    "**Goal:**\n",
    "Improve interpretability and prepare numerical columns for analysis.\n",
    "We will create new features and scale numerical values for better comparison and visualization.\n",
    "\n",
    "**Given:**\n",
    "- A cleaned `df` (after handling missing values).\n",
    "- Columns such as `fare`, `age`, `sex`, and `embarked`.\n",
    "\n",
    "**Do this:**\n",
    "1. Create a **log-transformed** version of `fare` to reduce skew.\n",
    "2. Create an **age band** column with categories (`Child`, `Young`, `Adult`, `Senior`).\n",
    "3. Apply **min–max normalization** to `age` and `fare` to bring them to a 0–1 scale.\n"
   ],
   "id": "dd87c421fa7a69e1"
  },
  {
   "metadata": {},
   "cell_type": "code",
   "source": [
    "#Solution\n",
    "#1\n",
    "df[\"log_fare\"] = np.log1p(df[\"fare\"])\n",
    "\n",
    "#2\n",
    "df[\"age_band\"] = pd.cut(\n",
    "    df[\"age\"],\n",
    "    bins=[0, 18, 40, 65, 80],\n",
    "    labels=[\"Child\", \"Young\", \"Adult\", \"Senior\"]\n",
    ")\n",
    "\n",
    "#3\n",
    "df[\"age_norm\"] = (df[\"age\"] - df[\"age\"].min()) / (df[\"age\"].max() - df[\"age\"].min())\n",
    "df[\"fare_norm\"] = (df[\"fare\"] - df[\"fare\"].min()) / (df[\"fare\"].max() - df[\"fare\"].min())"
   ],
   "id": "c6e10ccf474616a9",
   "outputs": [],
   "execution_count": null
  },
  {
   "metadata": {},
   "cell_type": "markdown",
   "source": [
    "<details>\n",
    "<summary>💡 Hint</summary>\n",
    "\n",
    "- Use `np.log1p()` for a safe logarithmic transformation (it handles zeros).\n",
    "- Use `pd.cut()` to bin continuous values into categories.\n",
    "- Normalization rescales values between 0 and 1:\n",
    "  x = (x - min(x)) / (max(x) - min(x))\n",
    "</details>\n"
   ],
   "id": "1c5d58ce95460f24"
  },
  {
   "metadata": {},
   "cell_type": "code",
   "source": [
    "assert \"log_fare\" in df.columns\n",
    "assert \"age_norm\" in df.columns and 0 <= df[\"age_norm\"].min() <= 1\n",
    "assert \"fare_norm\" in df.columns and 0 <= df[\"fare_norm\"].min() <= 1\n",
    "assert df[\"log_fare\"].isna().sum() == 0 or df[\"log_fare\"].notna().sum() > 0\n",
    "\n",
    "print(\"✅\")\n"
   ],
   "id": "938f601b4ad0907d",
   "outputs": [],
   "execution_count": null
  },
  {
   "metadata": {},
   "cell_type": "markdown",
   "source": [
    "## 6) Visualize\n",
    "\n",
    "**Goal:**\n",
    "Explore insights from the tidy and transformed dataset through simple visualizations.\n",
    "\n",
    "**Given:**\n",
    "- A tidy `df` with transformations and normalized numeric columns.\n",
    "\n",
    "**Do this:**\n",
    "1. Compare `fare` distributions before and after log transformation.\n",
    "2. Examine survival rates by sex and passenger class.\n"
   ],
   "id": "3e214cd2ce57d0d3"
  },
  {
   "metadata": {},
   "cell_type": "code",
   "source": [
    "#SOLUTION\n",
    "# 1)\n",
    "fig, axes = plt.subplots(1, 2, figsize=(12, 4))\n",
    "sns.histplot(df[\"fare\"], ax=axes[0], kde=True)\n",
    "axes[0].set_title(\"Original Fare Distribution\")\n",
    "sns.histplot(df[\"log_fare\"], ax=axes[1], kde=True)\n",
    "axes[1].set_title(\"Log-Transformed Fare Distribution\")\n",
    "plt.tight_layout()\n",
    "plt.show()\n",
    "\n",
    "# 3)\n",
    "plt.figure(figsize=(6, 4))\n",
    "sns.barplot(data=df, x=\"sex\", y=\"survived\", hue=\"class\")\n",
    "plt.title(\"Survival Rate by Sex and Class\")\n",
    "plt.show()"
   ],
   "id": "7c07c768b3a9f00f",
   "outputs": [],
   "execution_count": null
  },
  {
   "metadata": {},
   "cell_type": "markdown",
   "source": [
    "<details>\n",
    "<summary>💡 Hint</summary>\n",
    "\n",
    "- `sns.histplot()` is useful to visualize distribution shape and skew.\n",
    "- `sns.barplot()` shows mean values (by default) and supports grouping via `hue`.\n",
    "</details>\n"
   ],
   "id": "21d96cc86e276206"
  },
  {
   "metadata": {},
   "cell_type": "markdown",
   "source": [
    "## 7) Wrap-Up\n",
    "\n",
    "**Goal:**\n",
    "Summarize what we learned and confirm that our dataset is now *tidy, clean, and analysis-ready.*\n",
    "Reflect on how each wrangling step contributed to turning raw Titanic data into structured insight.\n",
    "\n",
    "**Recap:**\n",
    "1. **Loaded & Inspected** the dataset to spot issues.\n",
    "2. **Handled Missing Data** to make gaps explicit and consistent.\n",
    "2. **Reshaped** and **Combined** messy tables into a tidy format.\n",
    "4. **Transformed & Normalized** numeric values for interpretability.\n",
    "5. **Visualized** tidy data to discover patterns and confirm transformations."
   ],
   "id": "4a1864672fa31766"
  }
 ],
 "metadata": {
  "kernelspec": {
   "display_name": "Python 3",
   "language": "python",
   "name": "python3"
  },
  "language_info": {
   "codemirror_mode": {
    "name": "ipython",
    "version": 2
   },
   "file_extension": ".py",
   "mimetype": "text/x-python",
   "name": "python",
   "nbconvert_exporter": "python",
   "pygments_lexer": "ipython2",
   "version": "2.7.6"
  }
 },
 "nbformat": 4,
 "nbformat_minor": 5
}
