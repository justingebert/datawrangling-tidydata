{
 "cells": [
  {
   "metadata": {},
   "cell_type": "markdown",
   "source": [
    "# 🛳️ Titanic Data Investigation\n",
    "\n",
    "**Scenario:**\n",
    "You’ve been hired to prepare clean Titanic passenger data for a museum exhibit.\n",
    "The original data comes from multiple sources.\n",
    "Your mission is to:\n",
    "1. Detect and fix missing information\n",
    "2. Reshape messy structures into tidy format\n",
    "3. Combine data for richer analysis\n",
    "4. Transform and normalize values\n",
    "5. Create one clear visualization for the exhibit\n",
    "\n",
    "Every wrangling step you take helps make history more understandable!\n"
   ],
   "id": "928a9e39513e461b"
  },
  {
   "metadata": {},
   "cell_type": "markdown",
   "source": "## 0. Setup & Reproducibility",
   "id": "ffbf490dff798592"
  },
  {
   "cell_type": "code",
   "id": "initial_id",
   "metadata": {
    "collapsed": true
   },
   "source": "!pip install pandas==2.3.3 seaborn==0.13.2 numpy==2.3.4",
   "outputs": [],
   "execution_count": null
  },
  {
   "metadata": {},
   "cell_type": "code",
   "source": [
    "import pandas as pd\n",
    "import numpy as np\n",
    "import seaborn as sns\n",
    "\n",
    "np.random.seed(42)\n",
    "pd.__version__, np.__version__, sns.__version__"
   ],
   "id": "7017fdef71b29a9d",
   "outputs": [],
   "execution_count": null
  },
  {
   "metadata": {},
   "cell_type": "markdown",
   "source": [
    "## 1) Load & Inspect\n",
    "\n",
    "**Goal:** Understand the dataset’s shape, types, and missingness.\n",
    "\n",
    "**Do this:**\n",
    "1. Inspect the `titanic` dataset with `head()`, `info()`\n",
    "2. Count missing values per column\n",
    "3. Choose 3 candidate columns to clean\n"
   ],
   "id": "70171d5094f6b5e2"
  },
  {
   "metadata": {},
   "cell_type": "code",
   "source": [
    "df = sns.load_dataset(\"titanic\").iloc[:-100]\n",
    "df.head()\n"
   ],
   "id": "1023a6311acb9e9c",
   "outputs": [],
   "execution_count": null
  },
  {
   "metadata": {},
   "cell_type": "code",
   "source": [
    "#SOLUTION\n",
    "df.info()\n",
    "df.isna().sum().sort_values(ascending=False).head(10)\n"
   ],
   "id": "993011c805b97746",
   "outputs": [],
   "execution_count": null
  },
  {
   "metadata": {},
   "cell_type": "markdown",
   "source": [
    "<details>\n",
    "<summary>💡 Hint</summary>\n",
    "\n",
    "- Use `df.info()` to see dtypes and non-null counts\n",
    "- Use `df.isna().sum()` to count missing values\n",
    "- Typical targets here: `deck`, `age`, `embarked`\n",
    "</details>\n"
   ],
   "id": "355e48a9e9ca8e61"
  },
  {
   "metadata": {},
   "cell_type": "markdown",
   "source": "### Checkpoint 1",
   "id": "f0b296f71afc87eb"
  },
  {
   "metadata": {},
   "cell_type": "code",
   "source": [
    "expected = {\"survived\",\"pclass\",\"sex\",\"age\",\"sibsp\",\"parch\",\"fare\",\"embarked\",\"class\",\"who\",\"adult_male\",\"deck\",\"embark_town\",\"alive\"}\n",
    "assert expected.issubset(set(df.columns))\n",
    "print(\"✅\")\n"
   ],
   "id": "748b02e6bdb0fbbe",
   "outputs": [],
   "execution_count": null
  },
  {
   "metadata": {},
   "cell_type": "markdown",
   "source": [
    "## 2) Handle Missing Data\n",
    "\n",
    "**Goal:** Handle common observational missing values.\n",
    "\n",
    "**Do this:**\n",
    "1. Fill missing `age` with the **median**\n",
    "2. Fill missing `embarked` with the **mode**\n",
    "3. Replace missing `deck` with `\"Unknown\"` (categorical placeholder)\n",
    "4. Re-check missingness\n"
   ],
   "id": "72c6ec12d8204544"
  },
  {
   "metadata": {},
   "cell_type": "code",
   "source": [
    "##SOLUTION\n",
    "df[\"age\"].fillna(df[\"age\"].median(), inplace=True)\n",
    "\n",
    "df[\"embarked\"].fillna(df[\"embarked\"].mode()[0], inplace=True)\n",
    "\n",
    "df[\"deck\"] = df[\"deck\"].cat.add_categories(\"Unknown\")\n",
    "df[\"deck\"].fillna(\"Unknown\", inplace=True)\n",
    "\n",
    "df.isna().sum().sort_values(ascending=False).head(8)\n"
   ],
   "id": "f829f3ad6b0642ff",
   "outputs": [],
   "execution_count": null
  },
  {
   "metadata": {},
   "cell_type": "markdown",
   "source": [
    "<details>\n",
    "<summary>💡 Why median/mode?</summary>\n",
    "\n",
    "- **Age (numeric):** median is robust to outliers\n",
    "- **Embarked (categorical):** mode reflects the most common category\n",
    "- **Deck (string):** \"Unknown\" preserves the fact that a value should exist but wasn’t recorded\n",
    "</details>\n"
   ],
   "id": "17e35d1f43c4fd97"
  },
  {
   "metadata": {},
   "cell_type": "markdown",
   "source": [
    "<details>\n",
    "<summary>💡 Error when trying to fill deck?</summary>\n",
    "\n",
    "The `deck` column is stored as a *Categorical dtype* in pandas.\n",
    "To fill missing values with a new label (`\"Unknown\"`), you must first **add it to the category list**:\n",
    "```python\n",
    "df[\"deck\"] = df[\"deck\"].cat.add_categories(\"Unknown\")\n",
    "```\n",
    "\n",
    "Alternatively, you can convert deck to string before filling if you don’t need the categorical type:\n",
    "```python\n",
    "df[\"deck\"] = df[\"deck\"].astype(\"string\")\n",
    "```\n",
    "</details>\n"
   ],
   "id": "6b035706b1668dbd"
  },
  {
   "metadata": {},
   "cell_type": "markdown",
   "source": "### Checkpoint 2",
   "id": "50ac892536977434"
  },
  {
   "metadata": {},
   "cell_type": "code",
   "source": [
    "assert df[\"age\"].isna().sum() == 0\n",
    "assert df[\"embarked\"].isna().sum() == 0\n",
    "assert df[\"deck\"].isna().sum() == 0\n",
    "print(\"✅\")"
   ],
   "id": "f649c103ec8c50c0",
   "outputs": [],
   "execution_count": null
  },
  {
   "metadata": {},
   "cell_type": "markdown",
   "source": [
    "## 3) Reshape\n",
    "\n",
    "**Goal:**\n",
    "You received a **summary sheet** from the museum team.\n",
    "It shows passenger survival rates, but the layout is **wide** — each embarkation port is a column.\n",
    "Your job: **convert this wide table back to tidy format**, where each row is one observation.\n",
    "\n",
    "**Given:**\n",
    "- A wide DataFrame called `messy`\n",
    "- Columns: `class`, `sex`, `C`, `Q`, `S` → representing embarkation ports\n",
    "- Each cell shows the **average survival rate** for that group\n",
    "\n",
    "**Do this:**\n",
    "1. Inspect the messy wide table (run the next cell)\n",
    "2. Use `melt()` to make it tidy again with:\n",
    "   - `id_vars=[\"class\", \"sex\"]`\n",
    "   - `var_name=\"embarked\"`\n",
    "   - `value_name=\"survival_rate\"`\n"
   ],
   "id": "9e3fce7ba4a0e912"
  },
  {
   "metadata": {},
   "cell_type": "code",
   "source": [
    "messy = (\n",
    "    df.groupby([\"class\", \"sex\", \"embarked\"], observed=True)[\"survived\"]\n",
    "      .mean()\n",
    "      .round(3)\n",
    "      .reset_index()\n",
    "      .pivot(index=[\"class\", \"sex\"], columns=\"embarked\", values=\"survived\")\n",
    "      .reset_index()\n",
    ")\n",
    "messy.head()"
   ],
   "id": "47fa97b7068ec330",
   "outputs": [],
   "execution_count": null
  },
  {
   "metadata": {},
   "cell_type": "code",
   "source": [
    "#SOLUTION\n",
    "tidy = messy.melt(\n",
    "    id_vars=[\"class\",\"sex\"],\n",
    "    var_name=\"embarked\",\n",
    "    value_name=\"survival_rate\"\n",
    ")\n",
    "\n",
    "tidy.head()\n"
   ],
   "id": "ba9e5a3e1591549c",
   "outputs": [],
   "execution_count": null
  },
  {
   "metadata": {},
   "cell_type": "markdown",
   "source": [
    "<details>\n",
    "<summary>💡 Hint</summary>\n",
    "\n",
    "- `melt()` reverses a pivot: it takes columns and turns them into rows.\n",
    "- Use:\n",
    "  ```python\n",
    "  tidy = messy.melt(\n",
    "      id_vars=[\"class\", \"sex\"],\n",
    "      var_name=\"embarked\",\n",
    "      value_name=\"survival_rate\"\n",
    "  )\n"
   ],
   "id": "1cf44672d44221de"
  },
  {
   "metadata": {},
   "cell_type": "code",
   "source": [
    "assert set(tidy.columns) == {\"class\",\"sex\",\"embarked\",\"survival_rate\"}\n",
    "print(\"✅\")\n"
   ],
   "id": "82334923b0c93921",
   "outputs": [],
   "execution_count": null
  },
  {
   "metadata": {},
   "cell_type": "markdown",
   "source": [
    "## 4) Combine\n",
    "\n",
    "**Goal:**\n",
    "The museum’s data team discovered new passenger data and prepared **class descriptions** to enrich your dataset.\n",
    "\n",
    "**Given:**\n",
    "- A batch of **new rows**: **`new_data`**\n",
    "- A prepared lookup table: **`class_info`**\n",
    "\n",
    "**Do this:**\n",
    "1. **Append** (`concat`) the enriched `new_Data` to `df`\n",
    "2. Merge **`class_description`** from `class_info` into `df`\n",
    "\n"
   ],
   "id": "66e2ba0760872bbc"
  },
  {
   "metadata": {},
   "cell_type": "code",
   "source": "new_data = sns.load_dataset(\"titanic\").tail(100)",
   "id": "43be8f3b396a40ea",
   "outputs": [],
   "execution_count": null
  },
  {
   "metadata": {},
   "cell_type": "code",
   "source": [
    "#SOLUTION\n",
    "df = pd.concat([df, new_data], axis=0, ignore_index=True)"
   ],
   "id": "10406f952984375f",
   "outputs": [],
   "execution_count": null
  },
  {
   "metadata": {},
   "cell_type": "markdown",
   "source": [
    "<details>\n",
    "<summary>💡 Hint (Concat)</summary>\n",
    "\n",
    "- Use `pd.concat([df, new_rows], axis=0, ignore_index=True)` to append rows.\n",
    "- `ignore_index=True` re-numbers the index 0..N-1.\n",
    "</details>\n"
   ],
   "id": "d9b2361993a60a"
  },
  {
   "metadata": {},
   "cell_type": "code",
   "source": [
    "assert len(df) == 891\n",
    "print(\"✅\")"
   ],
   "id": "b4da29b1784f5ce4",
   "outputs": [],
   "execution_count": null
  },
  {
   "metadata": {},
   "cell_type": "markdown",
   "source": [
    "#### Merge prepared information\n",
    "\n",
    "Now the data team gives you an additional **lookup table** named `class_info` that maps the Titanic’s passenger classes\n",
    "(`First`, `Second`, `Third`) to **descriptive text** and **price category**.\n",
    "\n",
    "We’ll merge it with `df` on the **'class'** column.\n"
   ],
   "id": "8e56d261a28eb4fc"
  },
  {
   "metadata": {},
   "cell_type": "code",
   "source": [
    "prev_len = len(df)\n",
    "\n",
    "class_info = pd.DataFrame({\n",
    "    \"class\": [\"First\", \"Second\", \"Third\"],\n",
    "    \"class_description\": [\n",
    "        \"First Class – luxury cabins and dining\",\n",
    "        \"Second Class – comfortable standard cabins\",\n",
    "        \"Third Class – basic accommodation and shared rooms\"\n",
    "    ],\n",
    "    \"price_category\": [\"high\", \"mid\", \"low\"]\n",
    "})\n",
    "\n",
    "class_info"
   ],
   "id": "55b1e92609b23402",
   "outputs": [],
   "execution_count": null
  },
  {
   "metadata": {},
   "cell_type": "markdown",
   "source": [
    "<details>\n",
    "<summary>💡 Hint (Merge)</summary>\n",
    "\n",
    "- Think of `merge()` as connecting tables **by a shared key** (here: <code>'class'</code>).\n",
    "- Use `how='left'` so every passenger row is kept, even if the key isn't in the lookup.\n",
    "- Syntax:\n",
    "  <code>df.merge(class_info, on=\"class\", how=\"left\")</code>\n",
    "- `validate=\"m:1\"` checks that multiple passengers can map to one class record.\n",
    "</details>\n"
   ],
   "id": "70bb56b8471b610c"
  },
  {
   "metadata": {},
   "cell_type": "code",
   "source": [
    "df_merged = df.merge(\n",
    "    class_info,\n",
    "    on=\"class\",\n",
    "    how=\"left\",\n",
    "    validate=\"m:1\"\n",
    ")\n",
    "\n",
    "df_merged[[\"class\", \"sex\", \"fare\", \"class_description\", \"price_category\"]].head()"
   ],
   "id": "fbf5ad37d8fcb58e",
   "outputs": [],
   "execution_count": null
  },
  {
   "metadata": {},
   "cell_type": "markdown",
   "source": [
    "<details>\n",
    "<summary>💡 Hint (Merge)</summary>\n",
    "\n",
    "- Your **join keys must match in both *name* and *dtype*** on both sides.\n",
    "- Since <code>df['fare_band']</code> is an **Interval** and your lookup uses a **string key** (<code>fare_band_key</code>), create a matching key in <code>df</code> with:<br>\n",
    "  <code>df['fare_band_key'] = df['fare_band'].astype(str)</code>\n",
    "- Then do a **left merge** on <code>fare_band_key</code> so you keep all rows from <code>df</code>.\n",
    "- Use <code>validate=\"m:1\"</code> to ensure many-to-one (many passengers → one label per band).\n",
    "</details>\n"
   ],
   "id": "14ffa3bf26b18efb"
  },
  {
   "metadata": {},
   "cell_type": "code",
   "source": [
    "assert len(df_merged) == prev_len, \"❌ Row count changed, check merge keys.\"\n",
    "\n",
    "missing_desc = df_merged[\"class_description\"].isna().sum()\n",
    "assert missing_desc == 0\n",
    "print(\"✅\")\n",
    "\n"
   ],
   "id": "e957a7637aad6408",
   "outputs": [],
   "execution_count": null
  }
 ],
 "metadata": {
  "kernelspec": {
   "display_name": "Python 3",
   "language": "python",
   "name": "python3"
  },
  "language_info": {
   "codemirror_mode": {
    "name": "ipython",
    "version": 2
   },
   "file_extension": ".py",
   "mimetype": "text/x-python",
   "name": "python",
   "nbconvert_exporter": "python",
   "pygments_lexer": "ipython2",
   "version": "2.7.6"
  }
 },
 "nbformat": 4,
 "nbformat_minor": 5
}
