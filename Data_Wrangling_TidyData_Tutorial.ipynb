{
 "cells": [
  {
   "cell_type": "markdown",
   "id": "96f7eeb7",
   "metadata": {},
   "source": [
    "\n",
    "# Data Wrangling & Tidy Data (Python + pandas)\n",
    "\n",
    "**Goals for this tutorial (≈30 minutes):**\n",
    "- Load and inspect a messy, presentation-style dataset\n",
    "- Reshape from wide → long (tidy) with `melt`\n",
    "- Handle missing values and implicit missingness\n",
    "- Transform & normalize variables for analysis\n",
    "- Visualize the results using matplotlib\n",
    "\n",
    "**Dataset:** a simplified Pew Religion vs Income table (`pew_religion.csv`)\n"
   ]
  },
  {
   "cell_type": "markdown",
   "id": "94d51b6c",
   "metadata": {},
   "source": [
    "## 1) Setup & Imports"
   ]
  },
  {
   "cell_type": "code",
   "execution_count": null,
   "id": "640265ea",
   "metadata": {},
   "outputs": [],
   "source": [
    "\n",
    "import pandas as pd\n",
    "import numpy as np\n",
    "import matplotlib.pyplot as plt\n",
    "\n",
    "pd.set_option(\"display.max_columns\", 50)\n",
    "pd.set_option(\"display.width\", 120)\n"
   ]
  },
  {
   "cell_type": "markdown",
   "id": "3b7eae2f",
   "metadata": {},
   "source": [
    "## 2) Load & Preview the Data"
   ]
  },
  {
   "cell_type": "code",
   "execution_count": null,
   "id": "8d48383e",
   "metadata": {},
   "outputs": [],
   "source": [
    "\n",
    "path = \"/mnt/data/pew_religion.csv\"\n",
    "df = pd.read_csv(path)\n",
    "df.head()\n"
   ]
  },
  {
   "cell_type": "code",
   "execution_count": null,
   "id": "54f13702",
   "metadata": {},
   "outputs": [],
   "source": [
    "\n",
    "df.info()\n"
   ]
  },
  {
   "cell_type": "markdown",
   "id": "1e6275b6",
   "metadata": {},
   "source": [
    "\n",
    "### Identify \"messiness\"\n",
    "- Income **ranges are column headers**, i.e., **values stored as headers**.\n",
    "- This format is great for *presentation* but not for *analysis*.\n",
    "- We want **tidy data**: each variable a column, each observation a row.\n"
   ]
  },
  {
   "cell_type": "markdown",
   "id": "41c32023",
   "metadata": {},
   "source": [
    "## 3) Reshape (Wide → Long) with `melt()`"
   ]
  },
  {
   "cell_type": "code",
   "execution_count": null,
   "id": "09d5d121",
   "metadata": {},
   "outputs": [],
   "source": [
    "\n",
    "tidy = df.melt(\n",
    "    id_vars=\"religion\",\n",
    "    var_name=\"income_bracket\",\n",
    "    value_name=\"freq\"\n",
    ")\n",
    "tidy.head(10)\n"
   ]
  },
  {
   "cell_type": "markdown",
   "id": "ec4313a9",
   "metadata": {},
   "source": [
    "## 4) Handle Missing Values"
   ]
  },
  {
   "cell_type": "code",
   "execution_count": null,
   "id": "6ffb653e",
   "metadata": {},
   "outputs": [],
   "source": [
    "\n",
    "# Inspect explicit missingness\n",
    "tidy.isna().sum()\n"
   ]
  },
  {
   "cell_type": "markdown",
   "id": "a7d2296c",
   "metadata": {},
   "source": [
    "\n",
    "In this demo dataset there may be no missing values; in real data you would choose a strategy:  \n",
    "- Drop rows if appropriate (e.g., for counts that should exist): `tidy.dropna(subset=[\"freq\"])`  \n",
    "- Impute values (mean/median for numeric, \"Unknown\" for categorical) when justified.\n"
   ]
  },
  {
   "cell_type": "code",
   "execution_count": null,
   "id": "b2e9dd86",
   "metadata": {},
   "outputs": [],
   "source": [
    "\n",
    "# Example (no-op if none are missing):\n",
    "tidy = tidy.dropna(subset=[\"freq\"])\n",
    "tidy.head(5)\n"
   ]
  },
  {
   "cell_type": "markdown",
   "id": "1b9bef37",
   "metadata": {},
   "source": [
    "## 5) Transform & Normalize"
   ]
  },
  {
   "cell_type": "code",
   "execution_count": null,
   "id": "bb6e294c",
   "metadata": {},
   "outputs": [],
   "source": [
    "\n",
    "# Log-transform the frequency to compress scale (example transformation)\n",
    "tidy = tidy.assign(\n",
    "    freq_log = np.log1p(tidy[\"freq\"])\n",
    ")\n",
    "\n",
    "# Optional: extract a numeric hint from income brackets (e.g., lower bound)\n",
    "# For brackets like \"<$10k\", \"$10–20k\", we pull the first number we find\n",
    "lower_bounds = tidy[\"income_bracket\"].str.extract(r\"(\\d+)\", expand=False).astype(float)\n",
    "tidy = tidy.assign(income_lb_approx=lower_bounds)\n",
    "tidy.head(10)\n"
   ]
  },
  {
   "cell_type": "markdown",
   "id": "b50f3c8f",
   "metadata": {},
   "source": [
    "## 6) Visualize (Single Religion Example)"
   ]
  },
  {
   "cell_type": "code",
   "execution_count": null,
   "id": "92605b3d",
   "metadata": {},
   "outputs": [],
   "source": [
    "\n",
    "# Choose one religion to make a simple bar chart\n",
    "one = tidy.query(\"religion == 'Agnostic'\").copy()\n",
    "one = one.sort_values(\"income_lb_approx\", na_position=\"first\")\n",
    "\n",
    "plt.figure(figsize=(8,4))\n",
    "plt.bar(one[\"income_bracket\"], one[\"freq_log\"])\n",
    "plt.xticks(rotation=45, ha=\"right\")\n",
    "plt.title(\"Log Frequency by Income Bracket — Agnostic\")\n",
    "plt.xlabel(\"Income Bracket\")\n",
    "plt.ylabel(\"log(1 + freq)\")\n",
    "plt.tight_layout()\n",
    "plt.show()\n"
   ]
  },
  {
   "cell_type": "markdown",
   "id": "4b607838",
   "metadata": {},
   "source": [
    "## 7) Visualize (Multiple Religions)"
   ]
  },
  {
   "cell_type": "code",
   "execution_count": null,
   "id": "2684773b",
   "metadata": {},
   "outputs": [],
   "source": [
    "\n",
    "# Pivot for a grouped bar chart with matplotlib\n",
    "pivot = (tidy\n",
    "         .pivot(index=\"income_bracket\", columns=\"religion\", values=\"freq_log\")\n",
    "         .sort_index())\n",
    "\n",
    "# Simple grouped bar chart\n",
    "ax = pivot.plot(kind=\"bar\", figsize=(10,5), rot=45)\n",
    "ax.set_title(\"Log Frequency by Income Bracket and Religion\")\n",
    "ax.set_xlabel(\"Income Bracket\")\n",
    "ax.set_ylabel(\"log(1 + freq)\")\n",
    "plt.tight_layout()\n",
    "plt.show()\n"
   ]
  },
  {
   "cell_type": "markdown",
   "id": "f2a31da2",
   "metadata": {},
   "source": [
    "## 8) Optional: Pipeline (Method Chaining)"
   ]
  },
  {
   "cell_type": "code",
   "execution_count": null,
   "id": "ff1c9ad1",
   "metadata": {},
   "outputs": [],
   "source": [
    "\n",
    "clean = (\n",
    "    pd.read_csv(path)\n",
    "    .melt(id_vars=\"religion\", var_name=\"income_bracket\", value_name=\"freq\")\n",
    "    .dropna(subset=[\"freq\"])\n",
    "    .assign(\n",
    "        freq_log=lambda d: np.log1p(d[\"freq\"]),\n",
    "        income_lb_approx=lambda d: d[\"income_bracket\"].str.extract(r\"(\\d+)\", expand=False).astype(float),\n",
    "    )\n",
    ")\n",
    "\n",
    "clean.head(8)\n"
   ]
  },
  {
   "cell_type": "markdown",
   "id": "237a67e5",
   "metadata": {},
   "source": [
    "\n",
    "## 9) Mini Exercises (if time permits)\n",
    "1. **Imputation:** Replace any missing `freq` with 0 and compare plots.  \n",
    "2. **Ordering:** Order brackets using `CategoricalDtype` for a natural income order.  \n",
    "3. **Proportions:** Compute each religion’s *within-religion* proportions across income brackets.  \n",
    "4. **Export:** Save your tidy dataset to CSV with `to_csv(\"tidy_output.csv\", index=False)`.\n"
   ]
  },
  {
   "cell_type": "markdown",
   "id": "3cca8751",
   "metadata": {},
   "source": [
    "\n",
    "## 10) Wrap-Up\n",
    "- Tidy data = variables in columns, observations in rows, units in tables\n",
    "- Use `melt`, `pivot`, and `merge` to reshape and combine\n",
    "- Handle missing values thoughtfully (drop vs impute)\n",
    "- Transform/normalize to prepare for modeling\n",
    "- Visualize with matplotlib (tidy → straightforward plots)\n"
   ]
  }
 ],
 "metadata": {
  "kernelspec": {
   "display_name": ".venv",
   "language": "python",
   "name": "python3"
  },
  "language_info": {
   "name": "python",
   "version": "3.14.0"
  }
 },
 "nbformat": 4,
 "nbformat_minor": 5
}
